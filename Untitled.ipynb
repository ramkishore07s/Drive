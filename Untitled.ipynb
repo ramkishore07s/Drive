{
 "cells": [
  {
   "cell_type": "markdown",
   "metadata": {},
   "source": [
    "# ITWS Project: Drive"
   ]
  },
  {
   "cell_type": "markdown",
   "metadata": {},
   "source": [
    "## Team members:\n",
    "* Ramkishore S\n",
    "* Antony Martin"
   ]
  },
  {
   "cell_type": "markdown",
   "metadata": {},
   "source": [
    "## Contents:\n",
    "1. Implementation\n",
    "2. Features\n",
    "        1. Console Operations\n",
    "        2. API\n",
    "        3. Blogs (inspired from `<username>.github.io`)\n",
    "        4. Shared files\n",
    "3. Security\n",
    "4. Installation and Running"
   ]
  },
  {
   "cell_type": "markdown",
   "metadata": {},
   "source": [
    "## Implementation\n",
    "* The backend is implemented as a State machine.\n",
    "* We followed the MVC model.\n",
    "* File system is used to store User files.\n",
    "### Controllers\n",
    "* Auth\n",
    "* Main\n",
    "* Shared\n",
    "### Models\n",
    "* User\n",
    "### Views\n",
    "* main\n",
    "* login\n",
    "* signup\n",
    "* shared_files\n",
    "* shared_folders\n",
    "* blog"
   ]
  },
  {
   "cell_type": "markdown",
   "metadata": {},
   "source": [
    "### Controllers\n",
    "* forms used in controllers can be found in the `forms` folder, one file corresponding to each controller\n",
    "#### Auth\n",
    "* Used for user authentication(login, signup and logout).\n",
    "* `Flask-Login` is used to manage all authentication tasks.\n",
    "* `Flask-WTF` is used to manage forms.\n",
    "#### Main\n",
    "* Used for managing user files in the backend File System\n",
    "* Provides wrappers for all user operations, so no user command(look at Console Operations under Features) is executed directly, but they are scrutenized and executed only if they are OK.\n",
    "* Requires user authentication\n",
    "#### Shared\n",
    "* Used for accessing public files"
   ]
  },
  {
   "cell_type": "markdown",
   "metadata": {},
   "source": [
    "### Models\n",
    "#### User\n",
    "* Used to store user data `id, email, username, password-hash`"
   ]
  },
  {
   "cell_type": "markdown",
   "metadata": {},
   "source": [
    "### Views\n",
    "#### Main\n",
    "* For accessing User's data(files and folders),and provides functionalities like `create folder`, `change-folder`, `delete file/folder`, `upload file` etc.\n",
    "#### Login\n",
    "* For user login\n",
    "#### Signup\n",
    "* For user signup\n",
    "#### Shared_files\n",
    "* For displaying public files of particular user\n",
    "#### Shared folders\n",
    "* Displaying public component of every user\n",
    "#### Blog\n",
    "* Each user can upload a file `blog.html` to the root directory which will be served at `/blog/<user id>`\n",
    "* Inspired by `<username>.github.io` feature in <a href='https://www.github.com'>GitHub</a>.\n",
    "* Currently blogs only support inline styling and scripting, (cannot attach files)"
   ]
  },
  {
   "cell_type": "markdown",
   "metadata": {},
   "source": [
    "## Features\n",
    "### Console Operations\n",
    "#### `cd()`\n",
    "* `cd(\"<folder name>\")` to change folders. Does not support paths, the folder must be in the current directory\n",
    "* `cd(\".\")` to go to root directory of user\n",
    "* `cd(\"..\")` to go back, if performed from root folder, no change\n",
    "#### `ls()`\n",
    "* To list out files, filesizes and folders in the current directory\n",
    "#### `delete_file(\"<filename>\")`\n",
    "* Deletes the given file/folder is it is present in the current directory\n",
    "* Does not accept paths, wildcard expressions etc.\n"
   ]
  },
  {
   "cell_type": "code",
   "execution_count": null,
   "metadata": {},
   "outputs": [],
   "source": []
  }
 ],
 "metadata": {
  "kernelspec": {
   "display_name": "Python 3",
   "language": "python",
   "name": "python3"
  },
  "language_info": {
   "codemirror_mode": {
    "name": "ipython",
    "version": 3
   },
   "file_extension": ".py",
   "mimetype": "text/x-python",
   "name": "python",
   "nbconvert_exporter": "python",
   "pygments_lexer": "ipython3",
   "version": "3.6.5"
  }
 },
 "nbformat": 4,
 "nbformat_minor": 2
}
